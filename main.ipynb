{
 "cells": [
  {
   "cell_type": "code",
   "execution_count": 4,
   "id": "5255708b-d2bb-44b0-be34-3d8d2ce28013",
   "metadata": {
    "tags": []
   },
   "outputs": [
    {
     "data": {
      "application/vnd.jupyter.widget-view+json": {
       "model_id": "492e45feb80f41d284a1530e53fa21d0",
       "version_major": 2,
       "version_minor": 0
      },
      "text/plain": [
       "Output()"
      ]
     },
     "metadata": {},
     "output_type": "display_data"
    },
    {
     "data": {
      "application/vnd.jupyter.widget-view+json": {
       "model_id": "717432270c6f4d59afa0ac605e392a0d",
       "version_major": 2,
       "version_minor": 0
      },
      "text/plain": [
       "Box(children=(Text(value='', description='p:', placeholder='Prime number'), Valid(value=True)))"
      ]
     },
     "metadata": {},
     "output_type": "display_data"
    },
    {
     "data": {
      "application/vnd.jupyter.widget-view+json": {
       "model_id": "0b120714ed9c45c8b7ca4e22fcbb5d93",
       "version_major": 2,
       "version_minor": 0
      },
      "text/plain": [
       "Box(children=(Dropdown(description='g:', options=(), value=None), Button(description='Generate', style=ButtonS…"
      ]
     },
     "metadata": {},
     "output_type": "display_data"
    },
    {
     "data": {
      "application/vnd.jupyter.widget-view+json": {
       "model_id": "b0887e275de54098b9a94a33b1cbed03",
       "version_major": 2,
       "version_minor": 0
      },
      "text/plain": [
       "Box(children=(Text(value='', description='x:', placeholder='x in {1, ..., p - 1}'), Button(description='Choose…"
      ]
     },
     "metadata": {},
     "output_type": "display_data"
    },
    {
     "data": {
      "application/vnd.jupyter.widget-view+json": {
       "model_id": "05ccc8acea6444dc892ad7e561eff916",
       "version_major": 2,
       "version_minor": 0
      },
      "text/plain": [
       "Box(children=(Text(value='', description='k:', placeholder='k in {1, ..., p - 1}, (k, p-1)=1'), Button(descrip…"
      ]
     },
     "metadata": {},
     "output_type": "display_data"
    },
    {
     "data": {
      "application/vnd.jupyter.widget-view+json": {
       "model_id": "43c406af2a444639bee7a1a5068ee139",
       "version_major": 2,
       "version_minor": 0
      },
      "text/plain": [
       "Box(children=(Textarea(value='', description='Source text:', disabled=True, layout=Layout(width='600px')), Fil…"
      ]
     },
     "metadata": {},
     "output_type": "display_data"
    },
    {
     "data": {
      "application/vnd.jupyter.widget-view+json": {
       "model_id": "1607cafd35e54979a7e7c3eb98fa5c60",
       "version_major": 2,
       "version_minor": 0
      },
      "text/plain": [
       "Box(children=(Textarea(value='', description='Result text:', disabled=True, layout=Layout(width='600px')), Fil…"
      ]
     },
     "metadata": {},
     "output_type": "display_data"
    },
    {
     "data": {
      "application/vnd.jupyter.widget-view+json": {
       "model_id": "b6770c1008554ce4a640f90b7cea26a7",
       "version_major": 2,
       "version_minor": 0
      },
      "text/plain": [
       "Box(children=(Button(description='Encrypt', style=ButtonStyle()), Button(description='Decrypt', style=ButtonSt…"
      ]
     },
     "metadata": {},
     "output_type": "display_data"
    }
   ],
   "source": [
    "import ipywidgets as widgets, random, math, os, importlib\n",
    "from ipyevents import Event\n",
    "from IPython.display import clear_output\n",
    "import elgamal, num_algs\n",
    "\n",
    "importlib.reload(elgamal)\n",
    "\n",
    "\n",
    "valid_widgets = []\n",
    "\n",
    "error_output = widgets.Output()\n",
    "display(error_output)\n",
    "\n",
    "\n",
    "txt_P = widgets.Text(\n",
    "    description='p:',\n",
    "    placeholder = 'Prime number',\n",
    ")\n",
    "valid_P = widgets.Valid(\n",
    "    value=True,\n",
    ")\n",
    "valid_widgets.append(valid_P)\n",
    "display(widgets.Box([txt_P, valid_P]))\n",
    "valid_P.layout.visibility = 'hidden'\n",
    "\n",
    "\n",
    "drpdwn_G = widgets.Dropdown(\n",
    "    description='g:',\n",
    ")\n",
    "btn_generate_roots = widgets.Button(\n",
    "    description='Generate',\n",
    ")\n",
    "valid_G = widgets.Valid(\n",
    "    value=True,\n",
    ")\n",
    "valid_G.layout.visibility = 'hidden'\n",
    "display(widgets.Box([drpdwn_G, btn_generate_roots, valid_G]))\n",
    "valid_widgets.append(valid_G)\n",
    "\n",
    "\n",
    "txt_X = widgets.Text(\n",
    "    description='x:',\n",
    "    disabled=False,\n",
    "    placeholder = 'x in {1, ..., p - 1}',\n",
    ")\n",
    "btn_choose_random_X = widgets.Button(\n",
    "    description='Choose randomly',\n",
    ")\n",
    "valid_X = widgets.Valid(\n",
    "    value=True,\n",
    ")\n",
    "valid_X.layout.visibility = 'hidden'\n",
    "valid_widgets.append(valid_X)\n",
    "display(widgets.Box([txt_X, btn_choose_random_X, valid_X]))\n",
    "\n",
    "\n",
    "txt_K = widgets.Text(\n",
    "    description='k:',\n",
    "    disabled=False,\n",
    "    placeholder = 'k in {1, ..., p - 1}, (k, p-1)=1',\n",
    ")\n",
    "btn_choose_random_K = widgets.Button(\n",
    "    description='Choose randomly',\n",
    ")\n",
    "valid_K = widgets.Valid(\n",
    "    value=True,\n",
    ")\n",
    "chbox_randK = widgets.Checkbox(\n",
    "    value=False,\n",
    "    description='random',\n",
    "    indent=False\n",
    ")\n",
    "valid_K.layout.visibility = 'hidden'\n",
    "valid_widgets.append(valid_K)\n",
    "display(widgets.Box([txt_K, btn_choose_random_K, valid_K, chbox_randK]))\n",
    "\n",
    "\n",
    "txtarea_source = widgets.Textarea(\n",
    "    description='Source text:',\n",
    "    disabled=True,\n",
    "    layout=widgets.Layout(\n",
    "        width='600px'\n",
    "    )\n",
    ")\n",
    "btn_open = widgets.FileUpload(\n",
    "    description='Open',\n",
    ")\n",
    "chbox_ciphered = widgets.Checkbox(\n",
    "    value=False,\n",
    "    description='encrypted',\n",
    "    indent=False\n",
    ")\n",
    "display(widgets.Box([txtarea_source, btn_open, chbox_ciphered]))\n",
    "\n",
    "\n",
    "txtarea_result = widgets.Textarea(\n",
    "    description='Result text:',\n",
    "    disabled=True,\n",
    "    layout=widgets.Layout(\n",
    "        width='600px'\n",
    "    )\n",
    ")\n",
    "btn_save = widgets.FileUpload(\n",
    "    description='Save',\n",
    ")\n",
    "display(widgets.Box([txtarea_result, btn_save]))\n",
    "\n",
    "\n",
    "btn_encrypt = widgets.Button(\n",
    "    description='Encrypt',\n",
    ")\n",
    "btn_decrypt = widgets.Button(\n",
    "    description='Decrypt',\n",
    ")\n",
    "display(widgets.Box([btn_encrypt, btn_decrypt]))\n",
    "\n",
    "\n",
    "def show_param_error(widget, message: str):\n",
    "    if widget != None:\n",
    "        widget.layout.visibility = 'visible'\n",
    "        widget.value = False\n",
    "    if message > '':\n",
    "        with error_output:\n",
    "            print(message)\n",
    "        \n",
    "        \n",
    "def clear_param_error(widget):\n",
    "    with error_output:\n",
    "        clear_output()\n",
    "    if widget != None:\n",
    "        widget.value = True\n",
    "        widget.layout.visibility = 'hidden'\n",
    "       \n",
    "\n",
    "def validate_P(change):\n",
    "    clear_param_error(valid_P)\n",
    "    if not ((txt_P.value.isdigit() or txt_P.value == '') and num_algs.is_prime(int(txt_P.value))):\n",
    "        show_param_error(valid_P, 'Incorrect value of p')\n",
    "    else:\n",
    "        clear_param_error(valid_P)\n",
    "txt_P.observe(validate_P, names='value')\n",
    "\n",
    "\n",
    "def validate_X(change):\n",
    "    clear_param_error(valid_X)\n",
    "    if not ((txt_X.value.isdigit() or txt_X.value == '') and 1 <= int(txt_X.value) <= int(txt_P.value) - 1):\n",
    "        show_param_error(valid_X, 'Incorrect value of x')\n",
    "    else:\n",
    "        clear_param_error(valid_X)\n",
    "txt_X.observe(validate_X, names='value')\n",
    "\n",
    "\n",
    "def validate_K(change):\n",
    "    clear_param_error(valid_K)\n",
    "    if not ((txt_K.value.isdigit() or txt_K.value == '') and 1 <= int(txt_K.value) <= int(txt_P.value) - 1 and \\\n",
    "            num_algs.get_gcd(int(txt_K.value), int(txt_P.value)-1)[0] == 1):\n",
    "        show_param_error(valid_K, 'Incorrect value of k')\n",
    "    else:\n",
    "        clear_param_error(valid_K)\n",
    "txt_K.observe(validate_K, names='value')\n",
    "\n",
    "\n",
    "def btn_choose_random_X_on_click(change):\n",
    "    if valid_P.value:\n",
    "        if txt_P.value == '':\n",
    "            show_param_error(valid_P, 'Fill the field')\n",
    "            show_param_error(valid_X, '')\n",
    "        else:\n",
    "            clear_param_error(valid_X)\n",
    "            txt_X.value = str(random.randrange(1, int(txt_P.value)))\n",
    "    else:\n",
    "        show_param_error(valid_X, '')\n",
    "btn_choose_random_X.on_click(btn_choose_random_X_on_click)\n",
    "\n",
    "\n",
    "def btn_choose_random_K_on_click(change):\n",
    "    if valid_P.value:\n",
    "        if txt_P.value == '':\n",
    "            show_param_error(valid_P, 'Fill the field')\n",
    "            show_param_error(valid_K, '')\n",
    "        else:\n",
    "            clear_param_error(valid_K)\n",
    "            p = int(txt_P.value)\n",
    "            used = set()\n",
    "            while True:\n",
    "                k = random.randrange(1, p)\n",
    "                gcd, _, _ = num_algs.get_gcd(k, p - 1)\n",
    "                if gcd not in used and gcd == 1:\n",
    "                    txt_K.value = str(k)\n",
    "                    break\n",
    "                else:\n",
    "                    used.add(k)\n",
    "    else:\n",
    "        show_param_error(valid_K, '')\n",
    "btn_choose_random_K.on_click(btn_choose_random_K_on_click)\n",
    "\n",
    "\n",
    "def btn_generate_roots_on_click(change):\n",
    "    if valid_P.value:\n",
    "        if txt_P.value == '':\n",
    "            show_param_error(valid_P, 'Fill the field')\n",
    "            show_param_error(valid_G, '')\n",
    "        else:\n",
    "            clear_param_error(valid_G)\n",
    "            roots = num_algs.get_primitive_roots(int(txt_P.value))\n",
    "            drpdwn_G.options = roots\n",
    "    else:\n",
    "        show_param_error(valid_G, '')\n",
    "btn_generate_roots.on_click(btn_generate_roots_on_click)\n",
    "\n",
    "            \n",
    "def open_file(change):\n",
    "    global opened_file, bytes_for_int\n",
    "    opened_file = btn_open.value[0].name\n",
    "    txtarea_source.value = ''\n",
    "    file_len = os.stat(opened_file).st_size\n",
    "    with open(opened_file, 'rb') as file:\n",
    "        if chbox_ciphered.value:\n",
    "            bytes_for_int = int.from_bytes(file.read(1))\n",
    "        else:\n",
    "            bytes_for_int = 1\n",
    "            file.seek(0)\n",
    "        if file_len // bytes_for_int  - 1 <= 100:\n",
    "            s = file.read()\n",
    "            for i in range(0, len(s), bytes_for_int):\n",
    "                txtarea_source.value += str(int.from_bytes(s[i:i+bytes_for_int])) + ' '\n",
    "        else:\n",
    "            s = file.read()\n",
    "            cipher_text = list()\n",
    "            for j in range(0, len(s), bytes_for_int):\n",
    "                cipher_text.append(int.from_bytes(s[j:j+bytes_for_int]))\n",
    "            for i in range(50):\n",
    "                txtarea_source.value += str(cipher_text[i]) + ' '\n",
    "            txtarea_source.value += '... '\n",
    "            for i in range(len(cipher_text) - 50, len(cipher_text), 1):\n",
    "                txtarea_source.value += str(cipher_text[i]) + ' '\n",
    "btn_open.observe(open_file, names='value')\n",
    "\n",
    "\n",
    "def save_file(change):\n",
    "    saved_file_name = btn_save.value[0].name\n",
    "    with open(saved_file_name, 'wb') as saved_file:\n",
    "        if chbox_ciphered.value:\n",
    "            for byte in result_text:\n",
    "                saved_file.write(byte.to_bytes())\n",
    "        else:\n",
    "            saved_file.write(bytes_for_int.to_bytes())\n",
    "            for byte in result_text:\n",
    "                saved_file.write(byte.to_bytes(bytes_for_int))\n",
    "            with error_output:\n",
    "                print(\"The file's saved\")\n",
    "btn_save.observe(save_file, names='value')\n",
    "    \n",
    "    \n",
    "def btn_encrypt_on_click(change):\n",
    "    valid = True\n",
    "    global result_text\n",
    "    global cipher_text\n",
    "    for w in valid_widgets:\n",
    "        if not w.value:\n",
    "            valid = False\n",
    "    if valid:\n",
    "        clear_param_error(None)\n",
    "        global bytes_for_int\n",
    "        bytes_for_int = 1\n",
    "        cipher_text = []\n",
    "        txtarea_result.value = ''\n",
    "        if txt_P.value != '' and drpdwn_G.value != '' and txt_X.value != '' and (txt_K.value != '' or chbox_randK.value) and txtarea_source.value != '':\n",
    "            clear_param_error(None)\n",
    "            p = int(txt_P.value)\n",
    "            g = int(drpdwn_G.value)\n",
    "            x = int(txt_X.value)\n",
    "            y = num_algs.pow_mod(g, x, p)\n",
    "            with error_output:\n",
    "                print(f'y = {y}')\n",
    "            for s in open(opened_file, 'rb'):\n",
    "                for byte in s:\n",
    "                    if p < byte:\n",
    "                        clear_param_error(valid_P)\n",
    "                        show_param_error(valid_P, 'M must be less that p')\n",
    "                        return\n",
    "                    k = random.randrange(1, p) if chbox_randK.value else int(txt_K.value)\n",
    "                    cipher_pare = elgamal.encrypt(byte, p, g, y, k)\n",
    "                    if cipher_pare[0] >= 256 or cipher_pare[1] >= 256:\n",
    "                        bytes_for_int = 2\n",
    "                    cipher_text.extend(cipher_pare)\n",
    "            result_text = cipher_text\n",
    "            if len(cipher_text) < 100:\n",
    "                for byte in cipher_text:\n",
    "                    txtarea_result.value += str(byte) + ' '\n",
    "            else:\n",
    "                for i in range(50):\n",
    "                    txtarea_result.value += str(cipher_text[i]) + ' '\n",
    "                txtarea_result.value += '... '\n",
    "                for i in range(len(cipher_text) - 50, len(cipher_text)):\n",
    "                    txtarea_result.value += str(cipher_text[i]) + ' '\n",
    "        else:\n",
    "            show_param_error(None, 'Fill the fields')\n",
    "    else:\n",
    "        show_param_error(None, 'Invalid values')\n",
    "btn_encrypt.on_click(btn_encrypt_on_click)\n",
    "        \n",
    "    \n",
    "def btn_decrypt_on_click(change):\n",
    "    valid = True\n",
    "    for w in valid_widgets:\n",
    "        if not w.value:\n",
    "            valid = False\n",
    "    if valid:\n",
    "        clear_param_error(None)\n",
    "        global decipher_text, result_text, cipher_text, bytes_for_int\n",
    "        if txt_X.value != '' and txt_P.value != '' and txtarea_source.value != '':\n",
    "            clear_param_error(None)\n",
    "            x = int(txt_X.value)\n",
    "            p = int(txt_P.value)\n",
    "            cipher_text = list()\n",
    "            with open(opened_file, 'rb') as source_file:\n",
    "                bytes_for_int = int.from_bytes(source_file.read(1))\n",
    "                while ((byte := source_file.read(bytes_for_int)) != b''):\n",
    "                    cipher_text.append(int.from_bytes(byte))\n",
    "            a_list = cipher_text[::2]\n",
    "            b_list = cipher_text[1::2]\n",
    "            decipher_text = [elgamal.decrypt(a, b, x, p) for a, b in zip(a_list, b_list)]\n",
    "            txtarea_result.value = ''\n",
    "            if len(decipher_text) < 100:\n",
    "                for byte in decipher_text:\n",
    "                    txtarea_result.value += str(byte) + ' '\n",
    "            else:\n",
    "                for i in range(50):\n",
    "                    txtarea_result.value += str(decipher_text[i]) + ' '\n",
    "                txtarea_result.value += '... '\n",
    "                for i in range(len(decipher_text) - 50, len(decipher_text)):\n",
    "                    txtarea_result.value += str(decipher_text[i]) + ' '\n",
    "            result_text = decipher_text\n",
    "        else:\n",
    "            show_param_error(None, 'Fill the fields')\n",
    "    else: \n",
    "        show_param_error(None, 'Invalid values')\n",
    "btn_decrypt.on_click(btn_decrypt_on_click)"
   ]
  },
  {
   "cell_type": "code",
   "execution_count": 3,
   "id": "7595f00d-abac-4d65-8bf4-6df47c449c67",
   "metadata": {
    "tags": []
   },
   "outputs": [
    {
     "data": {
      "application/vnd.jupyter.widget-view+json": {
       "model_id": "870282d3066d4d18ba178b556a2150d1",
       "version_major": 2,
       "version_minor": 0
      },
      "text/plain": [
       "Output()"
      ]
     },
     "metadata": {},
     "output_type": "display_data"
    },
    {
     "data": {
      "application/vnd.jupyter.widget-view+json": {
       "model_id": "414ef442bbde4d67a31d3085c694726a",
       "version_major": 2,
       "version_minor": 0
      },
      "text/plain": [
       "Text(value='', description='p:')"
      ]
     },
     "metadata": {},
     "output_type": "display_data"
    },
    {
     "data": {
      "application/vnd.jupyter.widget-view+json": {
       "model_id": "43caba3956ca43d3b5ea3edfa0bc2fe7",
       "version_major": 2,
       "version_minor": 0
      },
      "text/plain": [
       "Text(value='', description='g:')"
      ]
     },
     "metadata": {},
     "output_type": "display_data"
    },
    {
     "data": {
      "application/vnd.jupyter.widget-view+json": {
       "model_id": "795240843064428594f2f332d8f8983d",
       "version_major": 2,
       "version_minor": 0
      },
      "text/plain": [
       "Text(value='', description='y:')"
      ]
     },
     "metadata": {},
     "output_type": "display_data"
    },
    {
     "data": {
      "application/vnd.jupyter.widget-view+json": {
       "model_id": "4b4aa681cf4249efaf70ed89c6735b6f",
       "version_major": 2,
       "version_minor": 0
      },
      "text/plain": [
       "Box(children=(Textarea(value='', description='Source text:', disabled=True, layout=Layout(width='600px')), Fil…"
      ]
     },
     "metadata": {},
     "output_type": "display_data"
    },
    {
     "data": {
      "application/vnd.jupyter.widget-view+json": {
       "model_id": "1634b5633ce34441a75a1a9663b3e65d",
       "version_major": 2,
       "version_minor": 0
      },
      "text/plain": [
       "Box(children=(Textarea(value='', description='Result text:', disabled=True, layout=Layout(width='600px')), Fil…"
      ]
     },
     "metadata": {},
     "output_type": "display_data"
    },
    {
     "data": {
      "application/vnd.jupyter.widget-view+json": {
       "model_id": "55cd6a7bd4324facb6d081357062506f",
       "version_major": 2,
       "version_minor": 0
      },
      "text/plain": [
       "Button(description='Break', style=ButtonStyle())"
      ]
     },
     "metadata": {},
     "output_type": "display_data"
    }
   ],
   "source": [
    "import elgamal, ipywidgets as widgets, os, importlib\n",
    "importlib.reload(elgamal)\n",
    "\n",
    "\n",
    "error_output = widgets.Output()\n",
    "display(error_output)\n",
    "\n",
    "\n",
    "txt_P = widgets.Text(\n",
    "    description='p:',\n",
    ")\n",
    "display(txt_P)\n",
    "\n",
    "\n",
    "txt_G = widgets.Text(\n",
    "    description='g:',\n",
    ")\n",
    "display(txt_G)\n",
    "\n",
    "\n",
    "txt_Y = widgets.Text(\n",
    "    description='y:',\n",
    ")\n",
    "display(txt_Y)\n",
    "\n",
    "\n",
    "del txtarea_source\n",
    "txtarea_source = widgets.Textarea(\n",
    "    description='Source text:',\n",
    "    disabled=True,\n",
    "    layout=widgets.Layout(\n",
    "        width='600px'\n",
    "    )\n",
    ")\n",
    "btn_open = widgets.FileUpload(\n",
    "    description='Open',\n",
    ")\n",
    "display(widgets.Box([txtarea_source, btn_open]))\n",
    "\n",
    "\n",
    "txtarea_result = widgets.Textarea(\n",
    "    description='Result text:',\n",
    "    disabled=True,\n",
    "    layout=widgets.Layout(\n",
    "        width='600px'\n",
    "    )\n",
    ")\n",
    "btn_save = widgets.FileUpload(\n",
    "    description='Save',\n",
    ")\n",
    "display(widgets.Box([txtarea_result, btn_save]))\n",
    "\n",
    "\n",
    "btn_break = widgets.Button(\n",
    "    description='Break',\n",
    ")\n",
    "display(btn_break)\n",
    "\n",
    "\n",
    "def open_file(change):\n",
    "    global opened_file, bytes_for_int, cipher_text\n",
    "    cipher_text = []\n",
    "    opened_file = btn_open.value[0].name\n",
    "    txtarea_source.value = ''\n",
    "    file_len = os.stat(opened_file).st_size\n",
    "    with open(opened_file, 'rb') as file:\n",
    "        bytes_for_int = int.from_bytes(file.read(1))\n",
    "        if file_len // bytes_for_int  - 1 <= 100:\n",
    "            s = file.read()\n",
    "            for i in range(0, len(s), bytes_for_int):\n",
    "                cipher_text.append(int.from_bytes(s[i:i+bytes_for_int]))\n",
    "                txtarea_source.value += str(int.from_bytes(s[i:i+bytes_for_int])) + ' '\n",
    "        else:\n",
    "            s = file.read()\n",
    "            for j in range(0, len(s), bytes_for_int):\n",
    "                cipher_text.append(int.from_bytes(s[j:j+bytes_for_int]))\n",
    "            for i in range(50):\n",
    "                txtarea_source.value += str(cipher_text[i]) + ' '\n",
    "            txtarea_source.value += '... '\n",
    "            for i in range(len(cipher_text) - 50, len(cipher_text), 1):\n",
    "                txtarea_source.value += str(cipher_text[i]) + ' '\n",
    "btn_open.observe(open_file, names='value')\n",
    "\n",
    "\n",
    "def save_file(change):\n",
    "    saved_file_name = btn_save.value[0].name\n",
    "    with open(saved_file_name, 'wb') as saved_file:\n",
    "        for byte in plain_text:\n",
    "            saved_file.write(byte.to_bytes())\n",
    "        with error_output:\n",
    "            print(\"The file's saved\")\n",
    "btn_save.observe(save_file, names='value')\n",
    "\n",
    "\n",
    "def btn_break_on_click(change):\n",
    "    global plain_text\n",
    "    file_extension = opened_file.split('.')[-1]\n",
    "    plain_text = []\n",
    "    p = int(txt_P.value)\n",
    "    g = int(txt_G.value)\n",
    "    y = int(txt_Y.value)\n",
    "    plain_text = elgamal.break_cipher(cipher_text, file_extension, y, g, p)\n",
    "    if len(plain_text) < 100:\n",
    "        for byte in plain_text:\n",
    "            txtarea_result.value += str(byte) + ' '\n",
    "    else:\n",
    "        for i in range(50):\n",
    "            txtarea_result.value += str(plain_text[i]) + ' '\n",
    "        txtarea_result.value += '... '\n",
    "        for i in range(len(plain_text) - 50, len(plain_text)):\n",
    "            txtarea_result.value += str(plain_text[i]) + ' '\n",
    "btn_break.on_click(btn_break_on_click)\n"
   ]
  }
 ],
 "metadata": {
  "kernelspec": {
   "display_name": "Python 3 (ipykernel)",
   "language": "python",
   "name": "python3"
  },
  "language_info": {
   "codemirror_mode": {
    "name": "ipython",
    "version": 3
   },
   "file_extension": ".py",
   "mimetype": "text/x-python",
   "name": "python",
   "nbconvert_exporter": "python",
   "pygments_lexer": "ipython3",
   "version": "3.11.2"
  }
 },
 "nbformat": 4,
 "nbformat_minor": 5
}
